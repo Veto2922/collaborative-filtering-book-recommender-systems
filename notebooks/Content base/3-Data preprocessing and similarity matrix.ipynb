{
 "cells": [
  {
   "cell_type": "markdown",
   "metadata": {},
   "source": [
    "# Data preprocessing\n",
    "\n",
    "---\n"
   ]
  },
  {
   "cell_type": "code",
   "execution_count": 54,
   "metadata": {},
   "outputs": [],
   "source": [
    "INPUT_PATH = r'..\\..\\data\\processed\\For content base\\Final_content_base.csv'\n",
    "\n",
    "OUTPUT_PATH = r'..\\..\\data\\processed\\For content base\\similarity_matrix_cb.pkl'"
   ]
  },
  {
   "cell_type": "markdown",
   "metadata": {},
   "source": [
    "# importing\n"
   ]
  },
  {
   "cell_type": "code",
   "execution_count": 2,
   "metadata": {},
   "outputs": [],
   "source": [
    "import pandas as pd\n",
    "import matplotlib.pyplot as plt\n",
    "import seaborn as sns\n",
    "import numpy as np\n",
    "\n",
    "import ast\n",
    "import nltk\n",
    "from nltk.stem import PorterStemmer\n",
    "\n",
    "from sklearn.feature_extraction.text import CountVectorizer\n",
    "from sklearn.metrics.pairwise import cosine_similarity, euclidean_distances, cosine_distances\n",
    "from sklearn.preprocessing import StandardScaler\n",
    "\n",
    "import joblib"
   ]
  },
  {
   "cell_type": "code",
   "execution_count": 3,
   "metadata": {},
   "outputs": [],
   "source": [
    "books_df = pd.read_csv(INPUT_PATH)"
   ]
  },
  {
   "cell_type": "code",
   "execution_count": 4,
   "metadata": {},
   "outputs": [
    {
     "data": {
      "text/html": [
       "<div>\n",
       "<style scoped>\n",
       "    .dataframe tbody tr th:only-of-type {\n",
       "        vertical-align: middle;\n",
       "    }\n",
       "\n",
       "    .dataframe tbody tr th {\n",
       "        vertical-align: top;\n",
       "    }\n",
       "\n",
       "    .dataframe thead th {\n",
       "        text-align: right;\n",
       "    }\n",
       "</style>\n",
       "<table border=\"1\" class=\"dataframe\">\n",
       "  <thead>\n",
       "    <tr style=\"text-align: right;\">\n",
       "      <th></th>\n",
       "      <th>ISBN</th>\n",
       "      <th>Title</th>\n",
       "      <th>Author</th>\n",
       "      <th>Publication_year</th>\n",
       "      <th>Publisher</th>\n",
       "      <th>Avg_rating</th>\n",
       "      <th>Rating_count</th>\n",
       "      <th>Book_image</th>\n",
       "    </tr>\n",
       "  </thead>\n",
       "  <tbody>\n",
       "    <tr>\n",
       "      <th>0</th>\n",
       "      <td>0195153448</td>\n",
       "      <td>Classical Mythology</td>\n",
       "      <td>Mark P. O. Morford</td>\n",
       "      <td>2002</td>\n",
       "      <td>Oxford University Press</td>\n",
       "      <td>0.000000</td>\n",
       "      <td>1</td>\n",
       "      <td>http://images.amazon.com/images/P/0195153448.0...</td>\n",
       "    </tr>\n",
       "    <tr>\n",
       "      <th>1</th>\n",
       "      <td>0002005018</td>\n",
       "      <td>Clara Callan</td>\n",
       "      <td>Richard Bruce Wright</td>\n",
       "      <td>2001</td>\n",
       "      <td>HarperFlamingo Canada</td>\n",
       "      <td>4.928571</td>\n",
       "      <td>14</td>\n",
       "      <td>http://images.amazon.com/images/P/0002005018.0...</td>\n",
       "    </tr>\n",
       "    <tr>\n",
       "      <th>2</th>\n",
       "      <td>0060973129</td>\n",
       "      <td>Decision in Normandy</td>\n",
       "      <td>Carlo D'Este</td>\n",
       "      <td>1991</td>\n",
       "      <td>HarperPerennial</td>\n",
       "      <td>5.000000</td>\n",
       "      <td>3</td>\n",
       "      <td>http://images.amazon.com/images/P/0060973129.0...</td>\n",
       "    </tr>\n",
       "    <tr>\n",
       "      <th>3</th>\n",
       "      <td>0374157065</td>\n",
       "      <td>Flu: The Story of the Great Influenza Pandemic...</td>\n",
       "      <td>Gina Bari Kolata</td>\n",
       "      <td>1999</td>\n",
       "      <td>Farrar Straus Giroux</td>\n",
       "      <td>4.272727</td>\n",
       "      <td>11</td>\n",
       "      <td>http://images.amazon.com/images/P/0374157065.0...</td>\n",
       "    </tr>\n",
       "    <tr>\n",
       "      <th>4</th>\n",
       "      <td>0393045218</td>\n",
       "      <td>The Mummies of Urumchi</td>\n",
       "      <td>E. J. W. Barber</td>\n",
       "      <td>1999</td>\n",
       "      <td>W. W. Norton &amp;amp; Company</td>\n",
       "      <td>0.000000</td>\n",
       "      <td>1</td>\n",
       "      <td>http://images.amazon.com/images/P/0393045218.0...</td>\n",
       "    </tr>\n",
       "  </tbody>\n",
       "</table>\n",
       "</div>"
      ],
      "text/plain": [
       "         ISBN                                              Title  \\\n",
       "0  0195153448                                Classical Mythology   \n",
       "1  0002005018                                       Clara Callan   \n",
       "2  0060973129                               Decision in Normandy   \n",
       "3  0374157065  Flu: The Story of the Great Influenza Pandemic...   \n",
       "4  0393045218                             The Mummies of Urumchi   \n",
       "\n",
       "                 Author  Publication_year                   Publisher  \\\n",
       "0    Mark P. O. Morford              2002     Oxford University Press   \n",
       "1  Richard Bruce Wright              2001       HarperFlamingo Canada   \n",
       "2          Carlo D'Este              1991             HarperPerennial   \n",
       "3      Gina Bari Kolata              1999        Farrar Straus Giroux   \n",
       "4       E. J. W. Barber              1999  W. W. Norton &amp; Company   \n",
       "\n",
       "   Avg_rating  Rating_count                                         Book_image  \n",
       "0    0.000000             1  http://images.amazon.com/images/P/0195153448.0...  \n",
       "1    4.928571            14  http://images.amazon.com/images/P/0002005018.0...  \n",
       "2    5.000000             3  http://images.amazon.com/images/P/0060973129.0...  \n",
       "3    4.272727            11  http://images.amazon.com/images/P/0374157065.0...  \n",
       "4    0.000000             1  http://images.amazon.com/images/P/0393045218.0...  "
      ]
     },
     "execution_count": 4,
     "metadata": {},
     "output_type": "execute_result"
    }
   ],
   "source": [
    "books_df.head()"
   ]
  },
  {
   "cell_type": "code",
   "execution_count": 5,
   "metadata": {},
   "outputs": [
    {
     "data": {
      "text/html": [
       "<div>\n",
       "<style scoped>\n",
       "    .dataframe tbody tr th:only-of-type {\n",
       "        vertical-align: middle;\n",
       "    }\n",
       "\n",
       "    .dataframe tbody tr th {\n",
       "        vertical-align: top;\n",
       "    }\n",
       "\n",
       "    .dataframe thead th {\n",
       "        text-align: right;\n",
       "    }\n",
       "</style>\n",
       "<table border=\"1\" class=\"dataframe\">\n",
       "  <thead>\n",
       "    <tr style=\"text-align: right;\">\n",
       "      <th></th>\n",
       "      <th>ISBN</th>\n",
       "      <th>Title</th>\n",
       "      <th>Author</th>\n",
       "      <th>Publication_year</th>\n",
       "      <th>Publisher</th>\n",
       "      <th>Avg_rating</th>\n",
       "      <th>Rating_count</th>\n",
       "      <th>Book_image</th>\n",
       "    </tr>\n",
       "  </thead>\n",
       "  <tbody>\n",
       "    <tr>\n",
       "      <th>26</th>\n",
       "      <td>0971880107</td>\n",
       "      <td>Wild Animus</td>\n",
       "      <td>Rich Shapero</td>\n",
       "      <td>2004</td>\n",
       "      <td>Too Far</td>\n",
       "      <td>1.019584</td>\n",
       "      <td>2502</td>\n",
       "      <td>http://images.amazon.com/images/P/0971880107.0...</td>\n",
       "    </tr>\n",
       "    <tr>\n",
       "      <th>402</th>\n",
       "      <td>0316666343</td>\n",
       "      <td>The Lovely Bones: A Novel</td>\n",
       "      <td>Alice Sebold</td>\n",
       "      <td>2002</td>\n",
       "      <td>Little, Brown</td>\n",
       "      <td>4.468726</td>\n",
       "      <td>1295</td>\n",
       "      <td>http://images.amazon.com/images/P/0316666343.0...</td>\n",
       "    </tr>\n",
       "    <tr>\n",
       "      <th>735</th>\n",
       "      <td>0385504209</td>\n",
       "      <td>The Da Vinci Code</td>\n",
       "      <td>Dan Brown</td>\n",
       "      <td>2003</td>\n",
       "      <td>Doubleday</td>\n",
       "      <td>4.652322</td>\n",
       "      <td>883</td>\n",
       "      <td>http://images.amazon.com/images/P/0385504209.0...</td>\n",
       "    </tr>\n",
       "    <tr>\n",
       "      <th>1086</th>\n",
       "      <td>0060928336</td>\n",
       "      <td>Divine Secrets of the Ya-Ya Sisterhood: A Novel</td>\n",
       "      <td>Rebecca Wells</td>\n",
       "      <td>1997</td>\n",
       "      <td>Perennial</td>\n",
       "      <td>3.448087</td>\n",
       "      <td>732</td>\n",
       "      <td>http://images.amazon.com/images/P/0060928336.0...</td>\n",
       "    </tr>\n",
       "    <tr>\n",
       "      <th>516</th>\n",
       "      <td>0312195516</td>\n",
       "      <td>The Red Tent (Bestselling Backlist)</td>\n",
       "      <td>Anita Diamant</td>\n",
       "      <td>1998</td>\n",
       "      <td>Picador USA</td>\n",
       "      <td>4.334716</td>\n",
       "      <td>723</td>\n",
       "      <td>http://images.amazon.com/images/P/0312195516.0...</td>\n",
       "    </tr>\n",
       "    <tr>\n",
       "      <th>...</th>\n",
       "      <td>...</td>\n",
       "      <td>...</td>\n",
       "      <td>...</td>\n",
       "      <td>...</td>\n",
       "      <td>...</td>\n",
       "      <td>...</td>\n",
       "      <td>...</td>\n",
       "      <td>...</td>\n",
       "    </tr>\n",
       "    <tr>\n",
       "      <th>264555</th>\n",
       "      <td>1582380805</td>\n",
       "      <td>Tropical Rainforests: 230 Species in Full Colo...</td>\n",
       "      <td>Allen M., Ph.D. Young</td>\n",
       "      <td>2001</td>\n",
       "      <td>Golden Guides from St. Martin's Press</td>\n",
       "      <td>0.000000</td>\n",
       "      <td>1</td>\n",
       "      <td>http://images.amazon.com/images/P/1582380805.0...</td>\n",
       "    </tr>\n",
       "    <tr>\n",
       "      <th>264557</th>\n",
       "      <td>014002803X</td>\n",
       "      <td>Anti Death League</td>\n",
       "      <td>Kingsley Amis</td>\n",
       "      <td>1975</td>\n",
       "      <td>Viking Press</td>\n",
       "      <td>0.000000</td>\n",
       "      <td>1</td>\n",
       "      <td>http://images.amazon.com/images/P/014002803X.0...</td>\n",
       "    </tr>\n",
       "    <tr>\n",
       "      <th>264561</th>\n",
       "      <td>006008667X</td>\n",
       "      <td>Lily Dale : The True Story of the Town that Ta...</td>\n",
       "      <td>Christine Wicker</td>\n",
       "      <td>2004</td>\n",
       "      <td>HarperSanFrancisco</td>\n",
       "      <td>0.000000</td>\n",
       "      <td>1</td>\n",
       "      <td>http://images.amazon.com/images/P/006008667X.0...</td>\n",
       "    </tr>\n",
       "    <tr>\n",
       "      <th>264562</th>\n",
       "      <td>0192126040</td>\n",
       "      <td>Republic (World's Classics)</td>\n",
       "      <td>Plato</td>\n",
       "      <td>1996</td>\n",
       "      <td>Oxford University Press</td>\n",
       "      <td>0.000000</td>\n",
       "      <td>1</td>\n",
       "      <td>http://images.amazon.com/images/P/0192126040.0...</td>\n",
       "    </tr>\n",
       "    <tr>\n",
       "      <th>264563</th>\n",
       "      <td>0767409752</td>\n",
       "      <td>A Guided Tour of Rene Descartes' Meditations o...</td>\n",
       "      <td>Christopher  Biffle</td>\n",
       "      <td>2000</td>\n",
       "      <td>McGraw-Hill Humanities/Social Sciences/Languages</td>\n",
       "      <td>0.000000</td>\n",
       "      <td>1</td>\n",
       "      <td>http://images.amazon.com/images/P/0767409752.0...</td>\n",
       "    </tr>\n",
       "  </tbody>\n",
       "</table>\n",
       "<p>264564 rows × 8 columns</p>\n",
       "</div>"
      ],
      "text/plain": [
       "              ISBN                                              Title  \\\n",
       "26      0971880107                                        Wild Animus   \n",
       "402     0316666343                          The Lovely Bones: A Novel   \n",
       "735     0385504209                                  The Da Vinci Code   \n",
       "1086    0060928336    Divine Secrets of the Ya-Ya Sisterhood: A Novel   \n",
       "516     0312195516                The Red Tent (Bestselling Backlist)   \n",
       "...            ...                                                ...   \n",
       "264555  1582380805  Tropical Rainforests: 230 Species in Full Colo...   \n",
       "264557  014002803X                                  Anti Death League   \n",
       "264561  006008667X  Lily Dale : The True Story of the Town that Ta...   \n",
       "264562  0192126040                        Republic (World's Classics)   \n",
       "264563  0767409752  A Guided Tour of Rene Descartes' Meditations o...   \n",
       "\n",
       "                       Author  Publication_year  \\\n",
       "26               Rich Shapero              2004   \n",
       "402              Alice Sebold              2002   \n",
       "735                 Dan Brown              2003   \n",
       "1086            Rebecca Wells              1997   \n",
       "516             Anita Diamant              1998   \n",
       "...                       ...               ...   \n",
       "264555  Allen M., Ph.D. Young              2001   \n",
       "264557          Kingsley Amis              1975   \n",
       "264561       Christine Wicker              2004   \n",
       "264562                  Plato              1996   \n",
       "264563    Christopher  Biffle              2000   \n",
       "\n",
       "                                               Publisher  Avg_rating  \\\n",
       "26                                               Too Far    1.019584   \n",
       "402                                        Little, Brown    4.468726   \n",
       "735                                            Doubleday    4.652322   \n",
       "1086                                           Perennial    3.448087   \n",
       "516                                          Picador USA    4.334716   \n",
       "...                                                  ...         ...   \n",
       "264555             Golden Guides from St. Martin's Press    0.000000   \n",
       "264557                                      Viking Press    0.000000   \n",
       "264561                                HarperSanFrancisco    0.000000   \n",
       "264562                           Oxford University Press    0.000000   \n",
       "264563  McGraw-Hill Humanities/Social Sciences/Languages    0.000000   \n",
       "\n",
       "        Rating_count                                         Book_image  \n",
       "26              2502  http://images.amazon.com/images/P/0971880107.0...  \n",
       "402             1295  http://images.amazon.com/images/P/0316666343.0...  \n",
       "735              883  http://images.amazon.com/images/P/0385504209.0...  \n",
       "1086             732  http://images.amazon.com/images/P/0060928336.0...  \n",
       "516              723  http://images.amazon.com/images/P/0312195516.0...  \n",
       "...              ...                                                ...  \n",
       "264555             1  http://images.amazon.com/images/P/1582380805.0...  \n",
       "264557             1  http://images.amazon.com/images/P/014002803X.0...  \n",
       "264561             1  http://images.amazon.com/images/P/006008667X.0...  \n",
       "264562             1  http://images.amazon.com/images/P/0192126040.0...  \n",
       "264563             1  http://images.amazon.com/images/P/0767409752.0...  \n",
       "\n",
       "[264564 rows x 8 columns]"
      ]
     },
     "execution_count": 5,
     "metadata": {},
     "output_type": "execute_result"
    }
   ],
   "source": [
    "books_df.sort_values(['Rating_count', 'Avg_rating'], ascending=False)"
   ]
  },
  {
   "cell_type": "code",
   "execution_count": 6,
   "metadata": {},
   "outputs": [
    {
     "data": {
      "text/plain": [
       "Agatha Christie        593\n",
       "William Shakespeare    547\n",
       "Stephen King           509\n",
       "Ann M. Martin          420\n",
       "Francine Pascal        372\n",
       "                      ... \n",
       "Christine Balint         1\n",
       "Fernan Savater           1\n",
       "Karen King               1\n",
       "Diana Joseph             1\n",
       "Christopher  Biffle      1\n",
       "Name: Author, Length: 99983, dtype: int64"
      ]
     },
     "execution_count": 6,
     "metadata": {},
     "output_type": "execute_result"
    }
   ],
   "source": [
    "books_df['Author'].value_counts()"
   ]
  },
  {
   "cell_type": "code",
   "execution_count": 7,
   "metadata": {},
   "outputs": [
    {
     "data": {
      "text/plain": [
       "Harlequin                                       7523\n",
       "Silhouette                                      4190\n",
       "Pocket                                          3859\n",
       "Ballantine Books                                3755\n",
       "Bantam Books                                    3632\n",
       "                                                ... \n",
       "Milestone Books                                    1\n",
       "A. Bonniers fÃ¶rlag                                1\n",
       "Texas Fish &amp; Game Publishing Co., L.L.C.       1\n",
       "Kepustakaan Populer Gramedia                       1\n",
       "Connaught                                          1\n",
       "Name: Publisher, Length: 16279, dtype: int64"
      ]
     },
     "execution_count": 7,
     "metadata": {},
     "output_type": "execute_result"
    }
   ],
   "source": [
    "books_df['Publisher'].value_counts()"
   ]
  },
  {
   "cell_type": "code",
   "execution_count": 8,
   "metadata": {},
   "outputs": [
    {
     "data": {
      "text/plain": [
       "2002    17542\n",
       "1999    17342\n",
       "2001    17264\n",
       "2000    17151\n",
       "1998    15700\n",
       "1997    14830\n",
       "2003    14277\n",
       "1996    13975\n",
       "1995    13494\n",
       "1994    11739\n",
       "1993    10556\n",
       "1992     9863\n",
       "1991     9346\n",
       "1990     8627\n",
       "1989     7912\n",
       "1988     7466\n",
       "1987     6508\n",
       "1986     5824\n",
       "2004     5753\n",
       "1985     5329\n",
       "1984     4961\n",
       "1983     4484\n",
       "1982     4186\n",
       "1981     3274\n",
       "1980     2671\n",
       "1979     2198\n",
       "1978     2127\n",
       "1977     1892\n",
       "1976     1592\n",
       "1975     1210\n",
       "1974     1017\n",
       "1973      919\n",
       "1972      768\n",
       "1971      540\n",
       "1970      458\n",
       "1969      338\n",
       "1968      232\n",
       "1966      182\n",
       "1967      176\n",
       "1965      173\n",
       "1964      148\n",
       "1960      133\n",
       "1961      132\n",
       "1963      132\n",
       "1962      123\n",
       "Name: Publication_year, dtype: int64"
      ]
     },
     "execution_count": 8,
     "metadata": {},
     "output_type": "execute_result"
    }
   ],
   "source": [
    "books_df['Publication_year'].value_counts()"
   ]
  },
  {
   "cell_type": "code",
   "execution_count": 9,
   "metadata": {},
   "outputs": [
    {
     "data": {
      "text/plain": [
       "0.000000     118023\n",
       "5.000000      14148\n",
       "8.000000      13360\n",
       "10.000000     12834\n",
       "7.000000      10380\n",
       "              ...  \n",
       "0.560000          1\n",
       "3.107843          1\n",
       "2.847826          1\n",
       "3.177419          1\n",
       "7.888889          1\n",
       "Name: Avg_rating, Length: 3738, dtype: int64"
      ]
     },
     "execution_count": 9,
     "metadata": {},
     "output_type": "execute_result"
    }
   ],
   "source": [
    "books_df['Avg_rating'].value_counts()"
   ]
  },
  {
   "cell_type": "markdown",
   "metadata": {},
   "source": [
    "## Since we have a lot of unique values and this will require a lot of calculations when measuring the similarity matrix(i don't have enough RAM to do that)...we will filter the book data and take the authors who have more than 30 books and Avg rating > 5.\n"
   ]
  },
  {
   "cell_type": "code",
   "execution_count": 10,
   "metadata": {},
   "outputs": [],
   "source": [
    "authors_count = books_df['Author'].value_counts()"
   ]
  },
  {
   "cell_type": "code",
   "execution_count": 24,
   "metadata": {},
   "outputs": [],
   "source": [
    "authors_above_30 = authors_count[authors_count > 30].index.to_list()"
   ]
  },
  {
   "cell_type": "code",
   "execution_count": 26,
   "metadata": {},
   "outputs": [],
   "source": [
    "filtered_books = books_df[books_df['Author'].isin(authors_above_30)]"
   ]
  },
  {
   "cell_type": "code",
   "execution_count": 28,
   "metadata": {},
   "outputs": [],
   "source": [
    "filtered_books = filtered_books[filtered_books['Avg_rating'] > 5]"
   ]
  },
  {
   "cell_type": "markdown",
   "metadata": {},
   "source": [
    "---\n"
   ]
  },
  {
   "cell_type": "markdown",
   "metadata": {},
   "source": [
    "## Get book details df\n"
   ]
  },
  {
   "cell_type": "code",
   "execution_count": 29,
   "metadata": {},
   "outputs": [
    {
     "data": {
      "text/html": [
       "<div>\n",
       "<style scoped>\n",
       "    .dataframe tbody tr th:only-of-type {\n",
       "        vertical-align: middle;\n",
       "    }\n",
       "\n",
       "    .dataframe tbody tr th {\n",
       "        vertical-align: top;\n",
       "    }\n",
       "\n",
       "    .dataframe thead th {\n",
       "        text-align: right;\n",
       "    }\n",
       "</style>\n",
       "<table border=\"1\" class=\"dataframe\">\n",
       "  <thead>\n",
       "    <tr style=\"text-align: right;\">\n",
       "      <th></th>\n",
       "      <th>ISBN</th>\n",
       "      <th>Title</th>\n",
       "      <th>Author</th>\n",
       "      <th>Publication_year</th>\n",
       "      <th>Publisher</th>\n",
       "      <th>Avg_rating</th>\n",
       "      <th>Rating_count</th>\n",
       "      <th>Book_image</th>\n",
       "    </tr>\n",
       "  </thead>\n",
       "  <tbody>\n",
       "    <tr>\n",
       "      <th>15</th>\n",
       "      <td>1567407781</td>\n",
       "      <td>The Witchfinder (Amos Walker Mystery Series)</td>\n",
       "      <td>Loren D. Estleman</td>\n",
       "      <td>1998</td>\n",
       "      <td>Brilliance Audio - Trade</td>\n",
       "      <td>6.0</td>\n",
       "      <td>1</td>\n",
       "      <td>http://images.amazon.com/images/P/1567407781.0...</td>\n",
       "    </tr>\n",
       "  </tbody>\n",
       "</table>\n",
       "</div>"
      ],
      "text/plain": [
       "          ISBN                                         Title  \\\n",
       "15  1567407781  The Witchfinder (Amos Walker Mystery Series)   \n",
       "\n",
       "               Author  Publication_year                 Publisher  Avg_rating  \\\n",
       "15  Loren D. Estleman              1998  Brilliance Audio - Trade         6.0   \n",
       "\n",
       "    Rating_count                                         Book_image  \n",
       "15             1  http://images.amazon.com/images/P/1567407781.0...  "
      ]
     },
     "execution_count": 29,
     "metadata": {},
     "output_type": "execute_result"
    }
   ],
   "source": [
    "filtered_books.head(1)"
   ]
  },
  {
   "cell_type": "code",
   "execution_count": 30,
   "metadata": {},
   "outputs": [],
   "source": [
    "books_dettails = filtered_books[['Author', 'Publication_year', 'Publisher']]"
   ]
  },
  {
   "cell_type": "code",
   "execution_count": 31,
   "metadata": {},
   "outputs": [
    {
     "name": "stderr",
     "output_type": "stream",
     "text": [
      "C:\\Users\\xobed\\AppData\\Local\\Temp\\ipykernel_4148\\3030580928.py:1: SettingWithCopyWarning: \n",
      "A value is trying to be set on a copy of a slice from a DataFrame.\n",
      "Try using .loc[row_indexer,col_indexer] = value instead\n",
      "\n",
      "See the caveats in the documentation: https://pandas.pydata.org/pandas-docs/stable/user_guide/indexing.html#returning-a-view-versus-a-copy\n",
      "  books_dettails['Publication_year'] = books_dettails['Publication_year'].astype('O')\n"
     ]
    }
   ],
   "source": [
    "books_dettails['Publication_year'] = books_dettails['Publication_year'].astype(\n",
    "    'O')"
   ]
  },
  {
   "cell_type": "code",
   "execution_count": 32,
   "metadata": {},
   "outputs": [
    {
     "name": "stdout",
     "output_type": "stream",
     "text": [
      "<class 'pandas.core.frame.DataFrame'>\n",
      "Int64Index: 9015 entries, 15 to 264559\n",
      "Data columns (total 3 columns):\n",
      " #   Column            Non-Null Count  Dtype \n",
      "---  ------            --------------  ----- \n",
      " 0   Author            9015 non-null   object\n",
      " 1   Publication_year  9015 non-null   object\n",
      " 2   Publisher         9015 non-null   object\n",
      "dtypes: object(3)\n",
      "memory usage: 281.7+ KB\n"
     ]
    }
   ],
   "source": [
    "books_dettails.info()"
   ]
  },
  {
   "cell_type": "markdown",
   "metadata": {},
   "source": [
    "# Make one hot encoding for book dettails\n"
   ]
  },
  {
   "cell_type": "code",
   "execution_count": 33,
   "metadata": {},
   "outputs": [],
   "source": [
    "from sklearn.preprocessing import OneHotEncoder\n",
    "encoder = OneHotEncoder()\n",
    "\n",
    "encoded_book_det = encoder.fit_transform(books_dettails)"
   ]
  },
  {
   "cell_type": "code",
   "execution_count": 34,
   "metadata": {},
   "outputs": [
    {
     "data": {
      "text/plain": [
       "<9015x2230 sparse matrix of type '<class 'numpy.float64'>'\n",
       "\twith 27045 stored elements in Compressed Sparse Row format>"
      ]
     },
     "execution_count": 34,
     "metadata": {},
     "output_type": "execute_result"
    }
   ],
   "source": [
    "encoded_book_det"
   ]
  },
  {
   "cell_type": "markdown",
   "metadata": {},
   "source": [
    "---\n"
   ]
  },
  {
   "cell_type": "markdown",
   "metadata": {},
   "source": [
    "# Measure similarity\n"
   ]
  },
  {
   "cell_type": "markdown",
   "metadata": {},
   "source": [
    "Since most of the matrices are 0s and 1s, we will use cosine similarity (or distance) as a means of measuring the similarity between the films.\n"
   ]
  },
  {
   "cell_type": "code",
   "execution_count": 36,
   "metadata": {},
   "outputs": [
    {
     "data": {
      "text/plain": [
       "array([[1., 0., 0., ..., 0., 0., 0.],\n",
       "       [0., 1., 1., ..., 0., 0., 0.],\n",
       "       [0., 1., 1., ..., 0., 0., 0.],\n",
       "       ...,\n",
       "       [0., 0., 0., ..., 1., 0., 0.],\n",
       "       [0., 0., 0., ..., 0., 1., 0.],\n",
       "       [0., 0., 0., ..., 0., 0., 1.]])"
      ]
     },
     "execution_count": 36,
     "metadata": {},
     "output_type": "execute_result"
    }
   ],
   "source": [
    "similarity_books = cosine_similarity(encoded_book_det)\n",
    "similarity_books"
   ]
  },
  {
   "cell_type": "code",
   "execution_count": 38,
   "metadata": {},
   "outputs": [
    {
     "data": {
      "text/html": [
       "<div>\n",
       "<style scoped>\n",
       "    .dataframe tbody tr th:only-of-type {\n",
       "        vertical-align: middle;\n",
       "    }\n",
       "\n",
       "    .dataframe tbody tr th {\n",
       "        vertical-align: top;\n",
       "    }\n",
       "\n",
       "    .dataframe thead th {\n",
       "        text-align: right;\n",
       "    }\n",
       "</style>\n",
       "<table border=\"1\" class=\"dataframe\">\n",
       "  <thead>\n",
       "    <tr style=\"text-align: right;\">\n",
       "      <th></th>\n",
       "      <th>ISBN</th>\n",
       "      <th>Title</th>\n",
       "      <th>Author</th>\n",
       "      <th>Publication_year</th>\n",
       "      <th>Publisher</th>\n",
       "      <th>Avg_rating</th>\n",
       "      <th>Rating_count</th>\n",
       "      <th>Book_image</th>\n",
       "    </tr>\n",
       "  </thead>\n",
       "  <tbody>\n",
       "    <tr>\n",
       "      <th>15</th>\n",
       "      <td>1567407781</td>\n",
       "      <td>The Witchfinder (Amos Walker Mystery Series)</td>\n",
       "      <td>Loren D. Estleman</td>\n",
       "      <td>1998</td>\n",
       "      <td>Brilliance Audio - Trade</td>\n",
       "      <td>6.000000</td>\n",
       "      <td>1</td>\n",
       "      <td>http://images.amazon.com/images/P/1567407781.0...</td>\n",
       "    </tr>\n",
       "    <tr>\n",
       "      <th>90</th>\n",
       "      <td>8445071408</td>\n",
       "      <td>El Senor De Los Anillos: LA Comunidad Del Anil...</td>\n",
       "      <td>J. R. R. Tolkien</td>\n",
       "      <td>2001</td>\n",
       "      <td>Minotauro</td>\n",
       "      <td>6.562500</td>\n",
       "      <td>16</td>\n",
       "      <td>http://images.amazon.com/images/P/8445071408.0...</td>\n",
       "    </tr>\n",
       "    <tr>\n",
       "      <th>91</th>\n",
       "      <td>8445071769</td>\n",
       "      <td>El Senor De Los Anillos: Las DOS Torres (Lord ...</td>\n",
       "      <td>J. R. R. Tolkien</td>\n",
       "      <td>2001</td>\n",
       "      <td>Minotauro</td>\n",
       "      <td>6.000000</td>\n",
       "      <td>10</td>\n",
       "      <td>http://images.amazon.com/images/P/8445071769.0...</td>\n",
       "    </tr>\n",
       "    <tr>\n",
       "      <th>92</th>\n",
       "      <td>8445071777</td>\n",
       "      <td>El Senor De Los Anillos: El Retorno Del Rey (T...</td>\n",
       "      <td>J. R. R. Tolkien</td>\n",
       "      <td>2001</td>\n",
       "      <td>Distribooks</td>\n",
       "      <td>6.500000</td>\n",
       "      <td>10</td>\n",
       "      <td>http://images.amazon.com/images/P/8445071777.0...</td>\n",
       "    </tr>\n",
       "    <tr>\n",
       "      <th>175</th>\n",
       "      <td>3257203659</td>\n",
       "      <td>Der illustrierte Mann. ErzÃ?Â¤hlungen.</td>\n",
       "      <td>Ray Bradbury</td>\n",
       "      <td>2002</td>\n",
       "      <td>Diogenes</td>\n",
       "      <td>7.666667</td>\n",
       "      <td>3</td>\n",
       "      <td>http://images.amazon.com/images/P/3257203659.0...</td>\n",
       "    </tr>\n",
       "    <tr>\n",
       "      <th>...</th>\n",
       "      <td>...</td>\n",
       "      <td>...</td>\n",
       "      <td>...</td>\n",
       "      <td>...</td>\n",
       "      <td>...</td>\n",
       "      <td>...</td>\n",
       "      <td>...</td>\n",
       "      <td>...</td>\n",
       "    </tr>\n",
       "    <tr>\n",
       "      <th>264444</th>\n",
       "      <td>0439230209</td>\n",
       "      <td>Raccoons on the Roof (Animal Ark)</td>\n",
       "      <td>Ben M. Baglio</td>\n",
       "      <td>2001</td>\n",
       "      <td>Scholastic</td>\n",
       "      <td>7.000000</td>\n",
       "      <td>1</td>\n",
       "      <td>http://images.amazon.com/images/P/0439230209.0...</td>\n",
       "    </tr>\n",
       "    <tr>\n",
       "      <th>264479</th>\n",
       "      <td>0060093269</td>\n",
       "      <td>Two of a Kind #30: Making a Splash (Two of a K...</td>\n",
       "      <td>Mary-Kate &amp;amp; Ashley Olsen</td>\n",
       "      <td>2003</td>\n",
       "      <td>HarperEntertainment</td>\n",
       "      <td>9.000000</td>\n",
       "      <td>1</td>\n",
       "      <td>http://images.amazon.com/images/P/0060093269.0...</td>\n",
       "    </tr>\n",
       "    <tr>\n",
       "      <th>264530</th>\n",
       "      <td>3404204433</td>\n",
       "      <td>Am Ende des Regenbogens.</td>\n",
       "      <td>Alan Dean Foster</td>\n",
       "      <td>2002</td>\n",
       "      <td>LÃ?Â¼bbe</td>\n",
       "      <td>8.000000</td>\n",
       "      <td>1</td>\n",
       "      <td>http://images.amazon.com/images/P/3404204433.0...</td>\n",
       "    </tr>\n",
       "    <tr>\n",
       "      <th>264539</th>\n",
       "      <td>8420614556</td>\n",
       "      <td>Lewis Carroll: A Traves Del Espejo Y Lo Que Al...</td>\n",
       "      <td>Lewis Carroll</td>\n",
       "      <td>1986</td>\n",
       "      <td>Lectorum Pubns (Adult)</td>\n",
       "      <td>7.000000</td>\n",
       "      <td>1</td>\n",
       "      <td>http://images.amazon.com/images/P/8420614556.0...</td>\n",
       "    </tr>\n",
       "    <tr>\n",
       "      <th>264559</th>\n",
       "      <td>0440400988</td>\n",
       "      <td>There's a Bat in Bunk Five</td>\n",
       "      <td>Paula Danziger</td>\n",
       "      <td>1988</td>\n",
       "      <td>Random House Childrens Pub (Mm)</td>\n",
       "      <td>7.000000</td>\n",
       "      <td>1</td>\n",
       "      <td>http://images.amazon.com/images/P/0440400988.0...</td>\n",
       "    </tr>\n",
       "  </tbody>\n",
       "</table>\n",
       "<p>9015 rows × 8 columns</p>\n",
       "</div>"
      ],
      "text/plain": [
       "              ISBN                                              Title  \\\n",
       "15      1567407781       The Witchfinder (Amos Walker Mystery Series)   \n",
       "90      8445071408  El Senor De Los Anillos: LA Comunidad Del Anil...   \n",
       "91      8445071769  El Senor De Los Anillos: Las DOS Torres (Lord ...   \n",
       "92      8445071777  El Senor De Los Anillos: El Retorno Del Rey (T...   \n",
       "175     3257203659             Der illustrierte Mann. ErzÃ?Â¤hlungen.   \n",
       "...            ...                                                ...   \n",
       "264444  0439230209                  Raccoons on the Roof (Animal Ark)   \n",
       "264479  0060093269  Two of a Kind #30: Making a Splash (Two of a K...   \n",
       "264530  3404204433                           Am Ende des Regenbogens.   \n",
       "264539  8420614556  Lewis Carroll: A Traves Del Espejo Y Lo Que Al...   \n",
       "264559  0440400988                         There's a Bat in Bunk Five   \n",
       "\n",
       "                              Author  Publication_year  \\\n",
       "15                 Loren D. Estleman              1998   \n",
       "90                  J. R. R. Tolkien              2001   \n",
       "91                  J. R. R. Tolkien              2001   \n",
       "92                  J. R. R. Tolkien              2001   \n",
       "175                     Ray Bradbury              2002   \n",
       "...                              ...               ...   \n",
       "264444                 Ben M. Baglio              2001   \n",
       "264479  Mary-Kate &amp; Ashley Olsen              2003   \n",
       "264530              Alan Dean Foster              2002   \n",
       "264539                 Lewis Carroll              1986   \n",
       "264559                Paula Danziger              1988   \n",
       "\n",
       "                              Publisher  Avg_rating  Rating_count  \\\n",
       "15             Brilliance Audio - Trade    6.000000             1   \n",
       "90                            Minotauro    6.562500            16   \n",
       "91                            Minotauro    6.000000            10   \n",
       "92                          Distribooks    6.500000            10   \n",
       "175                            Diogenes    7.666667             3   \n",
       "...                                 ...         ...           ...   \n",
       "264444                       Scholastic    7.000000             1   \n",
       "264479              HarperEntertainment    9.000000             1   \n",
       "264530                         LÃ?Â¼bbe    8.000000             1   \n",
       "264539           Lectorum Pubns (Adult)    7.000000             1   \n",
       "264559  Random House Childrens Pub (Mm)    7.000000             1   \n",
       "\n",
       "                                               Book_image  \n",
       "15      http://images.amazon.com/images/P/1567407781.0...  \n",
       "90      http://images.amazon.com/images/P/8445071408.0...  \n",
       "91      http://images.amazon.com/images/P/8445071769.0...  \n",
       "92      http://images.amazon.com/images/P/8445071777.0...  \n",
       "175     http://images.amazon.com/images/P/3257203659.0...  \n",
       "...                                                   ...  \n",
       "264444  http://images.amazon.com/images/P/0439230209.0...  \n",
       "264479  http://images.amazon.com/images/P/0060093269.0...  \n",
       "264530  http://images.amazon.com/images/P/3404204433.0...  \n",
       "264539  http://images.amazon.com/images/P/8420614556.0...  \n",
       "264559  http://images.amazon.com/images/P/0440400988.0...  \n",
       "\n",
       "[9015 rows x 8 columns]"
      ]
     },
     "execution_count": 38,
     "metadata": {},
     "output_type": "execute_result"
    }
   ],
   "source": [
    "filtered_books"
   ]
  },
  {
   "cell_type": "code",
   "execution_count": 44,
   "metadata": {},
   "outputs": [
    {
     "data": {
      "text/html": [
       "<div>\n",
       "<style scoped>\n",
       "    .dataframe tbody tr th:only-of-type {\n",
       "        vertical-align: middle;\n",
       "    }\n",
       "\n",
       "    .dataframe tbody tr th {\n",
       "        vertical-align: top;\n",
       "    }\n",
       "\n",
       "    .dataframe thead th {\n",
       "        text-align: right;\n",
       "    }\n",
       "</style>\n",
       "<table border=\"1\" class=\"dataframe\">\n",
       "  <thead>\n",
       "    <tr style=\"text-align: right;\">\n",
       "      <th>ISBN</th>\n",
       "      <th>1567407781</th>\n",
       "      <th>8445071408</th>\n",
       "      <th>8445071769</th>\n",
       "      <th>8445071777</th>\n",
       "      <th>3257203659</th>\n",
       "      <th>3257207522</th>\n",
       "      <th>3257208634</th>\n",
       "      <th>3257212429</th>\n",
       "      <th>3257214154</th>\n",
       "      <th>3257216416</th>\n",
       "      <th>...</th>\n",
       "      <th>8484504794</th>\n",
       "      <th>9500416689</th>\n",
       "      <th>0307129683</th>\n",
       "      <th>0395647398</th>\n",
       "      <th>5550534274</th>\n",
       "      <th>0439230209</th>\n",
       "      <th>0060093269</th>\n",
       "      <th>3404204433</th>\n",
       "      <th>8420614556</th>\n",
       "      <th>0440400988</th>\n",
       "    </tr>\n",
       "    <tr>\n",
       "      <th>Title</th>\n",
       "      <th></th>\n",
       "      <th></th>\n",
       "      <th></th>\n",
       "      <th></th>\n",
       "      <th></th>\n",
       "      <th></th>\n",
       "      <th></th>\n",
       "      <th></th>\n",
       "      <th></th>\n",
       "      <th></th>\n",
       "      <th></th>\n",
       "      <th></th>\n",
       "      <th></th>\n",
       "      <th></th>\n",
       "      <th></th>\n",
       "      <th></th>\n",
       "      <th></th>\n",
       "      <th></th>\n",
       "      <th></th>\n",
       "      <th></th>\n",
       "      <th></th>\n",
       "    </tr>\n",
       "  </thead>\n",
       "  <tbody>\n",
       "    <tr>\n",
       "      <th>The Witchfinder (Amos Walker Mystery Series)</th>\n",
       "      <td>1.0</td>\n",
       "      <td>0.000000</td>\n",
       "      <td>0.000000</td>\n",
       "      <td>0.000000</td>\n",
       "      <td>0.0</td>\n",
       "      <td>0.0</td>\n",
       "      <td>0.000000</td>\n",
       "      <td>0.000000</td>\n",
       "      <td>0.000000</td>\n",
       "      <td>0.000000</td>\n",
       "      <td>...</td>\n",
       "      <td>0.0</td>\n",
       "      <td>0.000000</td>\n",
       "      <td>0.0</td>\n",
       "      <td>0.000000</td>\n",
       "      <td>0.0</td>\n",
       "      <td>0.000000</td>\n",
       "      <td>0.0</td>\n",
       "      <td>0.000000</td>\n",
       "      <td>0.0</td>\n",
       "      <td>0.0</td>\n",
       "    </tr>\n",
       "    <tr>\n",
       "      <th>El Senor De Los Anillos: LA Comunidad Del Anillo (Lord of the Rings (Spanish))</th>\n",
       "      <td>0.0</td>\n",
       "      <td>1.000000</td>\n",
       "      <td>1.000000</td>\n",
       "      <td>0.666667</td>\n",
       "      <td>0.0</td>\n",
       "      <td>0.0</td>\n",
       "      <td>0.000000</td>\n",
       "      <td>0.000000</td>\n",
       "      <td>0.000000</td>\n",
       "      <td>0.000000</td>\n",
       "      <td>...</td>\n",
       "      <td>0.0</td>\n",
       "      <td>0.333333</td>\n",
       "      <td>0.0</td>\n",
       "      <td>0.333333</td>\n",
       "      <td>0.0</td>\n",
       "      <td>0.333333</td>\n",
       "      <td>0.0</td>\n",
       "      <td>0.000000</td>\n",
       "      <td>0.0</td>\n",
       "      <td>0.0</td>\n",
       "    </tr>\n",
       "    <tr>\n",
       "      <th>El Senor De Los Anillos: Las DOS Torres (Lord of the Rings (Paperback))</th>\n",
       "      <td>0.0</td>\n",
       "      <td>1.000000</td>\n",
       "      <td>1.000000</td>\n",
       "      <td>0.666667</td>\n",
       "      <td>0.0</td>\n",
       "      <td>0.0</td>\n",
       "      <td>0.000000</td>\n",
       "      <td>0.000000</td>\n",
       "      <td>0.000000</td>\n",
       "      <td>0.000000</td>\n",
       "      <td>...</td>\n",
       "      <td>0.0</td>\n",
       "      <td>0.333333</td>\n",
       "      <td>0.0</td>\n",
       "      <td>0.333333</td>\n",
       "      <td>0.0</td>\n",
       "      <td>0.333333</td>\n",
       "      <td>0.0</td>\n",
       "      <td>0.000000</td>\n",
       "      <td>0.0</td>\n",
       "      <td>0.0</td>\n",
       "    </tr>\n",
       "    <tr>\n",
       "      <th>El Senor De Los Anillos: El Retorno Del Rey (Tolkien, J. R. R. Lord of the Rings. 3.)</th>\n",
       "      <td>0.0</td>\n",
       "      <td>0.666667</td>\n",
       "      <td>0.666667</td>\n",
       "      <td>1.000000</td>\n",
       "      <td>0.0</td>\n",
       "      <td>0.0</td>\n",
       "      <td>0.000000</td>\n",
       "      <td>0.000000</td>\n",
       "      <td>0.000000</td>\n",
       "      <td>0.000000</td>\n",
       "      <td>...</td>\n",
       "      <td>0.0</td>\n",
       "      <td>0.333333</td>\n",
       "      <td>0.0</td>\n",
       "      <td>0.333333</td>\n",
       "      <td>0.0</td>\n",
       "      <td>0.333333</td>\n",
       "      <td>0.0</td>\n",
       "      <td>0.000000</td>\n",
       "      <td>0.0</td>\n",
       "      <td>0.0</td>\n",
       "    </tr>\n",
       "    <tr>\n",
       "      <th>Der illustrierte Mann. ErzÃ?Â¤hlungen.</th>\n",
       "      <td>0.0</td>\n",
       "      <td>0.000000</td>\n",
       "      <td>0.000000</td>\n",
       "      <td>0.000000</td>\n",
       "      <td>1.0</td>\n",
       "      <td>0.0</td>\n",
       "      <td>0.333333</td>\n",
       "      <td>0.333333</td>\n",
       "      <td>0.333333</td>\n",
       "      <td>0.333333</td>\n",
       "      <td>...</td>\n",
       "      <td>0.0</td>\n",
       "      <td>0.000000</td>\n",
       "      <td>0.0</td>\n",
       "      <td>0.000000</td>\n",
       "      <td>0.0</td>\n",
       "      <td>0.000000</td>\n",
       "      <td>0.0</td>\n",
       "      <td>0.333333</td>\n",
       "      <td>0.0</td>\n",
       "      <td>0.0</td>\n",
       "    </tr>\n",
       "  </tbody>\n",
       "</table>\n",
       "<p>5 rows × 9015 columns</p>\n",
       "</div>"
      ],
      "text/plain": [
       "ISBN                                                1567407781  8445071408  \\\n",
       "Title                                                                        \n",
       "The Witchfinder (Amos Walker Mystery Series)               1.0    0.000000   \n",
       "El Senor De Los Anillos: LA Comunidad Del Anill...         0.0    1.000000   \n",
       "El Senor De Los Anillos: Las DOS Torres (Lord o...         0.0    1.000000   \n",
       "El Senor De Los Anillos: El Retorno Del Rey (To...         0.0    0.666667   \n",
       "Der illustrierte Mann. ErzÃ?Â¤hlungen.                     0.0    0.000000   \n",
       "\n",
       "ISBN                                                8445071769  8445071777  \\\n",
       "Title                                                                        \n",
       "The Witchfinder (Amos Walker Mystery Series)          0.000000    0.000000   \n",
       "El Senor De Los Anillos: LA Comunidad Del Anill...    1.000000    0.666667   \n",
       "El Senor De Los Anillos: Las DOS Torres (Lord o...    1.000000    0.666667   \n",
       "El Senor De Los Anillos: El Retorno Del Rey (To...    0.666667    1.000000   \n",
       "Der illustrierte Mann. ErzÃ?Â¤hlungen.                0.000000    0.000000   \n",
       "\n",
       "ISBN                                                3257203659  3257207522  \\\n",
       "Title                                                                        \n",
       "The Witchfinder (Amos Walker Mystery Series)               0.0         0.0   \n",
       "El Senor De Los Anillos: LA Comunidad Del Anill...         0.0         0.0   \n",
       "El Senor De Los Anillos: Las DOS Torres (Lord o...         0.0         0.0   \n",
       "El Senor De Los Anillos: El Retorno Del Rey (To...         0.0         0.0   \n",
       "Der illustrierte Mann. ErzÃ?Â¤hlungen.                     1.0         0.0   \n",
       "\n",
       "ISBN                                                3257208634  3257212429  \\\n",
       "Title                                                                        \n",
       "The Witchfinder (Amos Walker Mystery Series)          0.000000    0.000000   \n",
       "El Senor De Los Anillos: LA Comunidad Del Anill...    0.000000    0.000000   \n",
       "El Senor De Los Anillos: Las DOS Torres (Lord o...    0.000000    0.000000   \n",
       "El Senor De Los Anillos: El Retorno Del Rey (To...    0.000000    0.000000   \n",
       "Der illustrierte Mann. ErzÃ?Â¤hlungen.                0.333333    0.333333   \n",
       "\n",
       "ISBN                                                3257214154  3257216416  \\\n",
       "Title                                                                        \n",
       "The Witchfinder (Amos Walker Mystery Series)          0.000000    0.000000   \n",
       "El Senor De Los Anillos: LA Comunidad Del Anill...    0.000000    0.000000   \n",
       "El Senor De Los Anillos: Las DOS Torres (Lord o...    0.000000    0.000000   \n",
       "El Senor De Los Anillos: El Retorno Del Rey (To...    0.000000    0.000000   \n",
       "Der illustrierte Mann. ErzÃ?Â¤hlungen.                0.333333    0.333333   \n",
       "\n",
       "ISBN                                                ...  8484504794  \\\n",
       "Title                                               ...               \n",
       "The Witchfinder (Amos Walker Mystery Series)        ...         0.0   \n",
       "El Senor De Los Anillos: LA Comunidad Del Anill...  ...         0.0   \n",
       "El Senor De Los Anillos: Las DOS Torres (Lord o...  ...         0.0   \n",
       "El Senor De Los Anillos: El Retorno Del Rey (To...  ...         0.0   \n",
       "Der illustrierte Mann. ErzÃ?Â¤hlungen.              ...         0.0   \n",
       "\n",
       "ISBN                                                9500416689  0307129683  \\\n",
       "Title                                                                        \n",
       "The Witchfinder (Amos Walker Mystery Series)          0.000000         0.0   \n",
       "El Senor De Los Anillos: LA Comunidad Del Anill...    0.333333         0.0   \n",
       "El Senor De Los Anillos: Las DOS Torres (Lord o...    0.333333         0.0   \n",
       "El Senor De Los Anillos: El Retorno Del Rey (To...    0.333333         0.0   \n",
       "Der illustrierte Mann. ErzÃ?Â¤hlungen.                0.000000         0.0   \n",
       "\n",
       "ISBN                                                0395647398  5550534274  \\\n",
       "Title                                                                        \n",
       "The Witchfinder (Amos Walker Mystery Series)          0.000000         0.0   \n",
       "El Senor De Los Anillos: LA Comunidad Del Anill...    0.333333         0.0   \n",
       "El Senor De Los Anillos: Las DOS Torres (Lord o...    0.333333         0.0   \n",
       "El Senor De Los Anillos: El Retorno Del Rey (To...    0.333333         0.0   \n",
       "Der illustrierte Mann. ErzÃ?Â¤hlungen.                0.000000         0.0   \n",
       "\n",
       "ISBN                                                0439230209  0060093269  \\\n",
       "Title                                                                        \n",
       "The Witchfinder (Amos Walker Mystery Series)          0.000000         0.0   \n",
       "El Senor De Los Anillos: LA Comunidad Del Anill...    0.333333         0.0   \n",
       "El Senor De Los Anillos: Las DOS Torres (Lord o...    0.333333         0.0   \n",
       "El Senor De Los Anillos: El Retorno Del Rey (To...    0.333333         0.0   \n",
       "Der illustrierte Mann. ErzÃ?Â¤hlungen.                0.000000         0.0   \n",
       "\n",
       "ISBN                                                3404204433  8420614556  \\\n",
       "Title                                                                        \n",
       "The Witchfinder (Amos Walker Mystery Series)          0.000000         0.0   \n",
       "El Senor De Los Anillos: LA Comunidad Del Anill...    0.000000         0.0   \n",
       "El Senor De Los Anillos: Las DOS Torres (Lord o...    0.000000         0.0   \n",
       "El Senor De Los Anillos: El Retorno Del Rey (To...    0.000000         0.0   \n",
       "Der illustrierte Mann. ErzÃ?Â¤hlungen.                0.333333         0.0   \n",
       "\n",
       "ISBN                                                0440400988  \n",
       "Title                                                           \n",
       "The Witchfinder (Amos Walker Mystery Series)               0.0  \n",
       "El Senor De Los Anillos: LA Comunidad Del Anill...         0.0  \n",
       "El Senor De Los Anillos: Las DOS Torres (Lord o...         0.0  \n",
       "El Senor De Los Anillos: El Retorno Del Rey (To...         0.0  \n",
       "Der illustrierte Mann. ErzÃ?Â¤hlungen.                     0.0  \n",
       "\n",
       "[5 rows x 9015 columns]"
      ]
     },
     "execution_count": 44,
     "metadata": {},
     "output_type": "execute_result"
    }
   ],
   "source": [
    "sim_m = pd.DataFrame(\n",
    "    similarity_books, columns=filtered_books['ISBN'], index=filtered_books['Title'])\n",
    "sim_m.head()"
   ]
  },
  {
   "cell_type": "code",
   "execution_count": 46,
   "metadata": {},
   "outputs": [
    {
     "data": {
      "text/plain": [
       "Title\n",
       "The Witchfinder (Amos Walker Mystery Series)                                                   1.000000\n",
       "Jitterbug: A Novel of Detroit                                                                  0.666667\n",
       "The Witchfinder (Bookcassette(r) Edition)                                                      0.666667\n",
       "Blood Work (Nova Audiobooks)                                                                   0.666667\n",
       "The Ninth Garfield Fat Cat 3-Pack (Garfield Fat Cat Three Pack)                                0.333333\n",
       "Arthur and the Popularity Test : A Marc Brown Arthur Chapter Book 12 (Arthur Chapter Books)    0.333333\n",
       "For Kicks                                                                                      0.333333\n",
       "The Transall Saga                                                                              0.333333\n",
       "How to Study the Bible for Yourself                                                            0.333333\n",
       "The Picture of Dorian Gray (Oxford World's Classics)                                           0.333333\n",
       "Name: 1567407781, dtype: float64"
      ]
     },
     "execution_count": 46,
     "metadata": {},
     "output_type": "execute_result"
    }
   ],
   "source": [
    "sim_m['1567407781'].sort_values(ascending=False).head(10)"
   ]
  },
  {
   "cell_type": "markdown",
   "metadata": {},
   "source": [
    "---\n"
   ]
  },
  {
   "cell_type": "markdown",
   "metadata": {},
   "source": [
    "---\n"
   ]
  },
  {
   "cell_type": "markdown",
   "metadata": {},
   "source": [
    "### Test recommendation based on similarity matrix\n"
   ]
  },
  {
   "cell_type": "code",
   "execution_count": 49,
   "metadata": {},
   "outputs": [],
   "source": [
    "def recommend(book_id):\n",
    "    return sim_m[book_id].sort_values(ascending=False).head(10)"
   ]
  },
  {
   "cell_type": "code",
   "execution_count": 53,
   "metadata": {},
   "outputs": [
    {
     "data": {
      "text/plain": [
       "Title\n",
       "A Pocket Full of Rye (Miss Marple Mysteries (Paperback))                 1.000000\n",
       "N or M?                                                                  1.000000\n",
       "Cards on the Table (Agatha Christie Mysteries Collection (Paperback))    0.666667\n",
       "Cards on the Table                                                       0.666667\n",
       "Murder in Three Acts                                                     0.666667\n",
       "Evil Under the Sun (Hercule Poirot Mysteries (Paperback))                0.666667\n",
       "After the Funeral (Hercule Poirot Mysteries (Paperback))                 0.666667\n",
       "Halloween Party (Hercule Poirot Mysteries (Paperback))                   0.666667\n",
       "The Regatta Mystery                                                      0.666667\n",
       "Five Little Pigs (Agatha Christie Mysteries Collection (Paperback))      0.666667\n",
       "Name: 0425098451, dtype: float64"
      ]
     },
     "execution_count": 53,
     "metadata": {},
     "output_type": "execute_result"
    }
   ],
   "source": [
    "recommend('0425098451')"
   ]
  },
  {
   "cell_type": "markdown",
   "metadata": {},
   "source": [
    "---\n"
   ]
  },
  {
   "cell_type": "markdown",
   "metadata": {},
   "source": [
    "# save similarity matrix\n"
   ]
  },
  {
   "cell_type": "code",
   "execution_count": 56,
   "metadata": {},
   "outputs": [
    {
     "data": {
      "text/plain": [
       "['..\\\\..\\\\data\\\\processed\\\\For content base\\\\similarity_matrix_cb.pkl']"
      ]
     },
     "execution_count": 56,
     "metadata": {},
     "output_type": "execute_result"
    }
   ],
   "source": [
    "joblib.dump(sim_m, OUTPUT_PATH)"
   ]
  }
 ],
 "metadata": {
  "kernelspec": {
   "display_name": "Python 3",
   "language": "python",
   "name": "python3"
  },
  "language_info": {
   "codemirror_mode": {
    "name": "ipython",
    "version": 3
   },
   "file_extension": ".py",
   "mimetype": "text/x-python",
   "name": "python",
   "nbconvert_exporter": "python",
   "pygments_lexer": "ipython3",
   "version": "3.10.8"
  }
 },
 "nbformat": 4,
 "nbformat_minor": 2
}
